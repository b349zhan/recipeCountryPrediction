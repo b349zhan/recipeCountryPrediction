{
 "cells": [
  {
   "cell_type": "code",
   "execution_count": 1,
   "id": "e618e70a",
   "metadata": {},
   "outputs": [],
   "source": [
    "from sklearn.feature_extraction.text import CountVectorizer"
   ]
  },
  {
   "cell_type": "code",
   "execution_count": 2,
   "id": "4be80dc3",
   "metadata": {},
   "outputs": [],
   "source": [
    "docs = [\"When the rain is blowing in your face\",\n",
    "        \"And the whole world is on your case\",\n",
    "        \"I could offer you a warm embrace\",\n",
    "        \"To make you feel my love\"]"
   ]
  },
  {
   "cell_type": "code",
   "execution_count": 3,
   "id": "8312be5b",
   "metadata": {},
   "outputs": [],
   "source": [
    "cv = CountVectorizer(binary = True, min_df = 0.1)\n",
    "X = cv.fit_transform(docs)"
   ]
  },
  {
   "cell_type": "code",
   "execution_count": 4,
   "id": "d8a20a0f",
   "metadata": {},
   "outputs": [
    {
     "data": {
      "text/plain": [
       "(4, 23)"
      ]
     },
     "execution_count": 4,
     "metadata": {},
     "output_type": "execute_result"
    }
   ],
   "source": [
    "X.shape"
   ]
  }
 ],
 "metadata": {
  "kernelspec": {
   "display_name": "Python 3",
   "language": "python",
   "name": "python3"
  },
  "language_info": {
   "codemirror_mode": {
    "name": "ipython",
    "version": 3
   },
   "file_extension": ".py",
   "mimetype": "text/x-python",
   "name": "python",
   "nbconvert_exporter": "python",
   "pygments_lexer": "ipython3",
   "version": "3.8.5"
  }
 },
 "nbformat": 4,
 "nbformat_minor": 5
}
